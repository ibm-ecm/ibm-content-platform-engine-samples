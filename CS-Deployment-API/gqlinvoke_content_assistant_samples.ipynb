{
 "cells": [
  {
   "cell_type": "markdown",
   "metadata": {},
   "source": [
    " Licensed Materials - Property of IBM (c) Copyright IBM Corp. 2025 All Rights Reserved.\n",
    "\n",
    " US Government Users Restricted Rights - Use, duplication or disclosure restricted by GSA ADP Schedule Contract with\n",
    " IBM Corp.\n",
    "\n",
    " DISCLAIMER OF WARRANTIES :\n",
    "\n",
    " Permission is granted to copy and modify this Sample code, and to distribute modified versions provided that both the\n",
    " copyright notice, and this permission notice and warranty disclaimer appear in all copies and modified versions.\n",
    "\n",
    " THIS SAMPLE CODE IS LICENSED TO YOU AS-IS. IBM AND ITS SUPPLIERS AND LICENSORS DISCLAIM ALL WARRANTIES, EITHER\n",
    " EXPRESS OR IMPLIED, IN SUCH SAMPLE CODE, INCLUDING THE WARRANTY OF NON-INFRINGEMENT AND THE IMPLIED WARRANTIES OF\n",
    " MERCHANTABILITY OR FITNESS FOR A PARTICULAR PURPOSE. IN NO EVENT WILL IBM OR ITS LICENSORS OR SUPPLIERS BE LIABLE FOR\n",
    " ANY DAMAGES ARISING OUT OF THE USE OF OR INABILITY TO USE THE SAMPLE CODE, DISTRIBUTION OF THE SAMPLE CODE, OR\n",
    " COMBINATION OF THE SAMPLE CODE WITH ANY OTHER CODE. IN NO EVENT SHALL IBM OR ITS LICENSORS AND SUPPLIERS BE LIABLE\n",
    " FOR ANY LOST REVENUE, LOST PROFITS OR DATA, OR FOR DIRECT, INDIRECT, SPECIAL, CONSEQUENTIAL, INCIDENTAL OR PUNITIVE\n",
    " DAMAGES, HOWEVER CAUSED AND REGARDLESS OF THE THEORY OF LIABILITY, EVEN IF IBM OR ITS LICENSORS OR SUPPLIERS HAVE\n",
    " BEEN ADVISED OF THE POSSIBILITY OF SUCH DAMAGES."
   ]
  },
  {
   "cell_type": "code",
   "execution_count": null,
   "id": "8d271fab",
   "metadata": {},
   "outputs": [],
   "source": [
    "import config\n",
    "from csdeploy import GraphqlConnection, GraphqlRequest, logging"
   ]
  },
  {
   "cell_type": "markdown",
   "id": "37aad1b8",
   "metadata": {},
   "source": [
    "# Source system config"
   ]
  },
  {
   "cell_type": "code",
   "execution_count": null,
   "id": "ffbfd93a",
   "metadata": {},
   "outputs": [],
   "source": [
    "print(config.GQL_URL)\n",
    "print(config.OS_NAME)"
   ]
  },
  {
   "cell_type": "markdown",
   "id": "1ba546ac",
   "metadata": {},
   "source": [
    "# Set Logging level (Optional)"
   ]
  },
  {
   "cell_type": "markdown",
   "id": "24e33d8a",
   "metadata": {},
   "source": [
    "Note: Change level to `logging.DEBUG` for more log details on requests being made"
   ]
  },
  {
   "cell_type": "code",
   "execution_count": null,
   "id": "e8b2655a",
   "metadata": {},
   "outputs": [],
   "source": [
    "logging.basicConfig()\n",
    "logging.getLogger(\"csdeploy\").setLevel(logging.DEBUG)"
   ]
  },
  {
   "cell_type": "markdown",
   "id": "a5b65437",
   "metadata": {},
   "source": [
    "# Authenticate with the source GraphQL server\n",
    "Choose one method of Authentication <br> <br>\n",
    "Note: Set `ssl_enabled = false` in `GraphqlConnection` if SSL issue occurs"
   ]
  },
  {
   "cell_type": "markdown",
   "id": "6532b711",
   "metadata": {},
   "source": [
    "#### OAuth Authentication"
   ]
  },
  {
   "cell_type": "code",
   "execution_count": null,
   "id": "d571d4d6",
   "metadata": {},
   "outputs": [],
   "source": [
    "source_connection = GraphqlConnection(url=config.GQL_URL, token_url=config.TOKEN_URL)\n",
    "source_connection.initialize_oauth(client_id=config.CLIENT_ID,client_secret= config.CLIENT_SECRET, username=config.OAUTH_USERNAME, password=config.OAUTH_PASSWORD,\\\n",
    "                                grant_type=config.GRANT_TYPE, scope=config.SCOPE)\n",
    "source_connection.get_token()\n",
    "\n",
    "#CODE BELOW IS ONLY USED FOR PRINT STATEMENTS\n",
    "print(\"XSRF token: \" + source_connection.xsrf_token)\n",
    "print(\"Authentication token: \" + source_connection.token)"
   ]
  },
  {
   "cell_type": "markdown",
   "id": "cc037f7d",
   "metadata": {},
   "source": [
    "#### Basic Authentication"
   ]
  },
  {
   "cell_type": "code",
   "execution_count": null,
   "id": "ae4215d1",
   "metadata": {},
   "outputs": [],
   "source": [
    "source_connection = GraphqlConnection(url=config.GQL_URL)\n",
    "source_connection.initialize_basic(username=config.BASIC_USERNAME, password=config.BASIC_PASSWORD)\n",
    "\n",
    "#CODE BELOW IS ONLY USED FOR PRINT STATEMENTS\n",
    "print(\"XSRF token: \" + source_connection.xsrf_token)"
   ]
  },
  {
   "cell_type": "markdown",
   "id": "8f226ae1",
   "metadata": {},
   "source": [
    "#### Zen and IAM Authentication"
   ]
  },
  {
   "cell_type": "code",
   "execution_count": null,
   "id": "358371f5",
   "metadata": {},
   "outputs": [],
   "source": [
    "source_connection = GraphqlConnection(url=config.GQL_URL, token_url=config.TOKEN_URL)\n",
    "source_connection.initialize_zen_iam(zen_exchange_url=config.EXCHANGE_TOKEN_URL, iam_client_id=config.CLIENT_ID,\\\n",
    "                                    iam_client_secret= config.CLIENT_SECRET, iam_username=config.OAUTH_USERNAME,\\\n",
    "                                    iam_password=config.OAUTH_PASSWORD, iam_grant_type=config.GRANT_TYPE,\\\n",
    "                                    iam_scope=config.SCOPE)\n",
    "source_connection.get_token()\n",
    "\n",
    "#CODE BELOW IS ONLY USED FOR PRINT STATEMENTS\n",
    "print(\"XSRF token: \" + source_connection.xsrf_token)\n",
    "print(\"Access token: \" + source_connection.token)"
   ]
  },
  {
   "cell_type": "markdown",
   "id": "caed898d",
   "metadata": {},
   "source": [
    "# GenAI Base Query Sample\n"
   ]
  },
  {
   "cell_type": "markdown",
   "id": "9727ba2b",
   "metadata": {},
   "source": [
    "#### GraphQL mutation to create GenAIBaseQuery"
   ]
  },
  {
   "cell_type": "code",
   "execution_count": null,
   "id": "59db2ccb",
   "metadata": {},
   "outputs": [],
   "source": [
    "gql_request = GraphqlRequest(gql_connection=source_connection)\n",
    "query = \"\"\"mutation createBaseQuery($repo:String!, $props:[PropertyIdentifierAndScalarValue!],\n",
    "  $className:String!){\n",
    "  createCmAbstractPersistable(repositoryIdentifier: $repo, \n",
    "  classIdentifier:$className,\n",
    "  cmAbstractPersistableProperties:\n",
    "  {\n",
    "    properties:$props\n",
    "  })\n",
    "  {\n",
    "    id\n",
    "    name\n",
    "    creator\n",
    "    properties(includes:[\"GenaiLLMPrompt\",\n",
    "\t\t        \"GenaiLLMModelName\", \n",
    "      \t\t\t   \"GenaiLLMResponse\",\n",
    "      \t\t\t])\n",
    "    {\n",
    "      alias\n",
    "      value\n",
    "    }\n",
    "  }\n",
    "}\n",
    "\"\"\"\n",
    "\n",
    "var = \"\"\"{\n",
    "  \"repo\":\"FNOS1\",\n",
    "  \"props\": [\n",
    "    {\"GenaiLLMPrompt\":\"Describe ECM\"}\n",
    "  ],\n",
    "  \"className\": \"GenAIBaseQuery\"\n",
    "}\"\"\"\n",
    "response = gql_request.execute_request(query=query, variables=var)"
   ]
  },
  {
   "cell_type": "markdown",
   "id": "ee9089bf",
   "metadata": {},
   "source": [
    "#### GraphQL query to query GenAIBaseQuery"
   ]
  },
  {
   "cell_type": "code",
   "execution_count": null,
   "id": "b48ffebb",
   "metadata": {},
   "outputs": [],
   "source": [
    "gql_request = GraphqlRequest(gql_connection=source_connection)\n",
    "query = \"\"\"query baseQuery($repo:String!, $id:String!,\n",
    "  $className:String!){\n",
    "  cmAbstractPersistable(repositoryIdentifier: $repo,\n",
    "  identifier:$id,\n",
    "  classIdentifier:$className)\n",
    "  {\n",
    "    id\n",
    "    name\n",
    "    creator\n",
    "    properties(includes:[\"GenaiLLMPrompt\",\n",
    "      \"GenaiLLMModelName\", \n",
    "      \"GenaiLLMResponse\",\n",
    "      ])\n",
    "    {\n",
    "      alias\n",
    "      value\n",
    "    }\n",
    "  }\n",
    "}\n",
    "\n",
    "\"\"\"\n",
    "\n",
    "var = \"\"\"{\n",
    "  \"repo\":\"FNOS1\",\n",
    "  \"id\": \"{B0A7A18F-0000-CF1A-A47B-48ED6A93307F}\",\n",
    "  \"className\": \"GenaiBaseQuery\"\n",
    "}}\"\"\"\n",
    "response = gql_request.execute_request(query=query, variables=var)"
   ]
  },
  {
   "cell_type": "markdown",
   "id": "e6b3ce3a",
   "metadata": {},
   "source": [
    "# GenAI Vector Query Sample\n"
   ]
  },
  {
   "cell_type": "markdown",
   "id": "2d3a2690",
   "metadata": {},
   "source": [
    "#### GraphQL mutation to create GenAIVectorQuery:\n"
   ]
  },
  {
   "cell_type": "code",
   "execution_count": null,
   "id": "260b0125",
   "metadata": {},
   "outputs": [],
   "source": [
    "gql_request = GraphqlRequest(gql_connection=source_connection)\n",
    "query = \"\"\"mutation createVectorQuery($repo:String!, $props:[PropertyIdentifierAndScalarValue!],\n",
    "  $className:String!){\n",
    "  createCmAbstractPersistable(repositoryIdentifier: $repo, \n",
    "  classIdentifier:$className,\n",
    "  cmAbstractPersistableProperties:\n",
    "  {\n",
    "    properties:$props\n",
    "  })\n",
    "  {\n",
    "    id\n",
    "    name\n",
    "    creator\n",
    "    properties(includes:[\"GenaiLLMPrompt\",\n",
    "      \"GenaiLLMModelName\", \n",
    "      \"GenaiLLMResponse\",\n",
    "      \"GenaiVectorChunks\"\n",
    "      \"GenaiPerformLLMQuery\"\n",
    "      \"GenaiMaxDocumentChunks\"\n",
    "      ])\n",
    "    {\n",
    "      alias\n",
    "      value\n",
    "    }\n",
    "  }\n",
    "}\n",
    "\"\"\"\n",
    "\n",
    "var = \"\"\"{\n",
    "  \"repo\":\"FNOS1\",\n",
    "  \"props\": [\n",
    "    {\"GenaiLLMPrompt\":\"What is FileNet\"},    \n",
    "    {\"GenaiPerformLLMQuery\": true},\n",
    "    {\"GenaiMaxDocumentChunks\": 6}\n",
    "  ],\n",
    "  \"className\": \"GenaiVectorQuery\"\n",
    "}\"\"\"\n",
    "response = gql_request.execute_request(query=query, variables=var)"
   ]
  },
  {
   "cell_type": "markdown",
   "id": "50d876fe",
   "metadata": {},
   "source": [
    "#### GraphQL query to query GenAIVectorQuery"
   ]
  },
  {
   "cell_type": "code",
   "execution_count": null,
   "id": "2b90fa83",
   "metadata": {},
   "outputs": [],
   "source": [
    "gql_request = GraphqlRequest(gql_connection=source_connection)\n",
    "query = \"\"\"query vectorQuery($repo:String!, $id:String!,\n",
    "  $className:String!){\n",
    "  cmAbstractPersistable(repositoryIdentifier: $repo,\n",
    "  identifier:$id,\n",
    "  classIdentifier:$className)\n",
    "  {\n",
    "    id\n",
    "    name\n",
    "    creator\n",
    "    properties(includes:[\"GenaiLLMPrompt\",\n",
    "      \"GenaiLLMModelName\", \n",
    "      \"GenaiLLMResponse\",\n",
    "      \"GenaiVectorChunks\"\n",
    "      \"GenaiPerformLLMQuery\"\n",
    "      \"GenaiMaxDocumentChunks\"\n",
    "      ])\n",
    "    {\n",
    "      alias\n",
    "      value\n",
    "    }\n",
    "  }\n",
    "} \n",
    "\"\"\"\n",
    "\n",
    "var = \"\"\"{\n",
    "  \"repo\":\"FNOS1\",\n",
    "  \"id\": \"{20CDA68F-0000-CD1E-B890-E603DE35F322}\",\n",
    "  \"className\": \"GenAIVectorQuery\"\n",
    "}\"\"\"\n",
    "response = gql_request.execute_request(query=query, variables=var)"
   ]
  },
  {
   "cell_type": "markdown",
   "id": "8418ed34",
   "metadata": {},
   "source": [
    "# GenAI Document Query Sample\n"
   ]
  },
  {
   "cell_type": "markdown",
   "id": "d5cc1c0c",
   "metadata": {},
   "source": [
    "#### GraphQL mutation to create GenAIDocumentQuery:\n"
   ]
  },
  {
   "cell_type": "code",
   "execution_count": null,
   "id": "6180661f",
   "metadata": {},
   "outputs": [],
   "source": [
    "gql_request = GraphqlRequest(gql_connection=source_connection)\n",
    "query = \"\"\"mutation createDocumentQuery($repo:String!, $props:[PropertyIdentifierAndScalarValue!],\n",
    "  $className:String!){\n",
    "  createCmAbstractPersistable(repositoryIdentifier: $repo, \n",
    "  classIdentifier:$className,\n",
    "  cmAbstractPersistableProperties:\n",
    "  {\n",
    "    properties:$props\n",
    "  })\n",
    "  {\n",
    "    id\n",
    "    name\n",
    "    creator\n",
    "    properties(includes:[\"GenaiLLMPrompt\",\n",
    "      \"GenaiLLMModelName\", \n",
    "      \"GenaiLLMResponse\",\n",
    "      \"GenaiVectorChunks\"\n",
    "      \"GenaiPerformLLMQuery\"\n",
    "      \"GenaiMaxDocumentChunks\"\n",
    "      \"GenaiContextDocument\"\n",
    "      ])\n",
    "    {\n",
    "      alias\n",
    "      value\n",
    "    }\n",
    "  }\n",
    "}\n",
    "\"\"\"\n",
    "\n",
    "var = \"\"\"{\n",
    "  \"repo\":\"FNOS1\",\n",
    "  \"props\": [\n",
    "    {\"GenaiLLMPrompt\":\"What is FileNet\"},    \n",
    "    {\"GenaiPerformLLMQuery\": true},\n",
    "    {\"GenaiMaxDocumentChunks\": 6},\n",
    "    {\"GenaiContextDocument\": \n",
    "    \t{\n",
    "        \"identifier\":\"{95919900-0000-C15D-8DD2-8DFF25B34A78}\",\n",
    "        \"classIdentifier\":\"{01A3A8C2-7AEC-11D1-A31B-0020AF9FBB1C}\"\n",
    "      }\n",
    "    }\n",
    "  ],\n",
    "  \"className\": \"GenaiDocumentQuery\"\n",
    "}\"\"\"\n",
    "response = gql_request.execute_request(query=query, variables=var)"
   ]
  },
  {
   "cell_type": "markdown",
   "id": "3d14c199",
   "metadata": {},
   "source": [
    "#### GraphQL query to query GenAIDocumentQuery:\n"
   ]
  },
  {
   "cell_type": "code",
   "execution_count": null,
   "id": "cab30fa0",
   "metadata": {},
   "outputs": [],
   "source": [
    "gql_request = GraphqlRequest(gql_connection=source_connection)\n",
    "query = \"\"\"query docQuery($repo:String!, $id:String!,\n",
    "  $className:String!){\n",
    "  cmAbstractPersistable(repositoryIdentifier: $repo,\n",
    "  identifier:$id,\n",
    "  classIdentifier:$className)\n",
    "  {\n",
    "    id\n",
    "    name\n",
    "    creator\n",
    "    properties(includes:[\"GenaiLLMPrompt\",\n",
    "      \"GenaiLLMModelName\", \n",
    "      \"GenaiLLMResponse\",\n",
    "      \"GenaiVectorChunks\"\n",
    "      \"GenaiPerformLLMQuery\"\n",
    "      \"GenaiMaxDocumentChunks\"\n",
    "      \"GenaiContextDocument\"\n",
    "      ])\n",
    "    {\n",
    "      alias\n",
    "      value\n",
    "    }\n",
    "  }\n",
    "}\n",
    "\"\"\"\n",
    "\n",
    "var = \"\"\"{\n",
    "  \"repo\":\"FNOS1\",\n",
    "  \"id\": \"{503FA78F-0000-C32C-9BE5-FD37E37381B3}\",\n",
    "  \"className\": \"GenAIDocumentQuery\"\n",
    "}\"\"\"\n",
    "response = gql_request.execute_request(query=query, variables=var)"
   ]
  },
  {
   "cell_type": "markdown",
   "id": "8ef6e5f9",
   "metadata": {},
   "source": [
    "# GenAI MultiDocument Query Sample\n"
   ]
  },
  {
   "cell_type": "markdown",
   "id": "fcb75574",
   "metadata": {},
   "source": [
    "#### GraphQL mutation to create GenAiMultiDocumentQuery"
   ]
  },
  {
   "cell_type": "code",
   "execution_count": null,
   "id": "65a98cd3",
   "metadata": {},
   "outputs": [],
   "source": [
    "gql_request = GraphqlRequest(gql_connection=source_connection)\n",
    "query = \"\"\"mutation createMultiDocumentQuery($repo:String!, $props:[PropertyIdentifierAndScalarValue!],\n",
    "  $className:String!){\n",
    "  createCmAbstractPersistable(repositoryIdentifier: $repo, \n",
    "  classIdentifier:$className,\n",
    "  cmAbstractPersistableProperties:\n",
    "  {\n",
    "    properties:$props\n",
    "  })\n",
    "  {\n",
    "    id\n",
    "    name\n",
    "    creator\n",
    "    properties(includes:[\"GenaiLLMPrompt\",\n",
    "      \"GenaiLLMModelName\", \n",
    "      \"GenaiLLMResponse\",\n",
    "      \"GenaiVectorChunks\"\n",
    "      \"GenaiPerformLLMQuery\"\n",
    "      \"GenaiMaxDocumentChunks\"\n",
    "      \"GenaiContextDocuments\"\n",
    "      ])\n",
    "    {\n",
    "      alias\n",
    "      value\n",
    "    }\n",
    "  }\n",
    "}\n",
    "\"\"\"\n",
    "\n",
    "var = \"\"\"{\n",
    "  \"repo\":\"FNOS1\",\n",
    "  \"props\": [\n",
    "    {\"GenaiLLMPrompt\":\"What is FileNet\"},    \n",
    "    {\"GenaiPerformLLMQuery\": true},\n",
    "    {\"GenaiMaxDocumentChunks\": 6},\n",
    "    {\"GenaiContextDocuments\": [\"{95919900-0000-C15D-8DD2-8DFF25B34A78}\"]}\n",
    "  ],\n",
    "  \"className\": \"GenaiMultiDocumentQuery\"\n",
    "}\"\"\"\n",
    "response = gql_request.execute_request(query=query, variables=var)"
   ]
  },
  {
   "cell_type": "markdown",
   "id": "ba9e0f68",
   "metadata": {},
   "source": [
    "#### GraphQL query to query GenAIMultiDocumentQuery:\n"
   ]
  },
  {
   "cell_type": "code",
   "execution_count": null,
   "id": "1faaf769",
   "metadata": {},
   "outputs": [],
   "source": [
    "gql_request = GraphqlRequest(gql_connection=source_connection)\n",
    "query = \"\"\"query multiDocQuery($repo:String!, $id:String!,\n",
    "  $className:String!){\n",
    "  cmAbstractPersistable(repositoryIdentifier: $repo,\n",
    "  identifier:$id,\n",
    "  classIdentifier:$className)\n",
    "  {\n",
    "    id\n",
    "    name\n",
    "    creator\n",
    "    properties(includes:[\"GenaiLLMPrompt\",\n",
    "      \"GenaiLLMModelName\", \n",
    "      \"GenaiLLMResponse\",\n",
    "      \"GenaiVectorChunks\"\n",
    "      \"GenaiPerformLLMQuery\"\n",
    "      \"GenaiMaxDocumentChunks\"\n",
    "      \"GenaiContextDocument\"\n",
    "      ])\n",
    "    {\n",
    "      alias\n",
    "      value\n",
    "    }\n",
    "  }\n",
    "}\n",
    "\"\"\"\n",
    "\n",
    "var = \"\"\"{\n",
    "  \"repo\":\"FNOS1\",\n",
    "  \"id\": \"{503FA78F-0000-C32C-9BE5-FD37E37381B3}\",\n",
    "  \"className\": \"GenAIMultiDocumentQuery\"\n",
    "}\"\"\"\n",
    "response = gql_request.execute_request(query=query, variables=var)"
   ]
  },
  {
   "cell_type": "markdown",
   "metadata": {},
   "source": [
    "# GenAI Adhoc Summary Sample\n"
   ]
  },
  {
   "cell_type": "markdown",
   "id": "58623edd",
   "metadata": {},
   "source": [
    "#### GraphQL mutation to create GenAiAdhocSummary"
   ]
  },
  {
   "cell_type": "code",
   "execution_count": null,
   "id": "a0caeb7d",
   "metadata": {},
   "outputs": [],
   "source": [
    "gql_request = GraphqlRequest(gql_connection=source_connection)\n",
    "query = \"\"\"mutation createAdhocQuery($repo:String!, $props:[PropertyIdentifierAndScalarValue!],\n",
    "  $className:String!){\n",
    "  createCmAbstractPersistable(repositoryIdentifier: $repo, \n",
    "  classIdentifier:$className,\n",
    "  cmAbstractPersistableProperties:\n",
    "  {\n",
    "    properties:$props\n",
    "  })\n",
    "  {\n",
    "    id\n",
    "    name\n",
    "    creator\n",
    "    properties(includes:[\"GenaiLLMPrompt\",\n",
    "      \"GenaiLLMModelName\", \n",
    "      \"GenaiLLMResponse\",\n",
    "      \"GenaiVectorChunks\"\n",
    "      \"GenaiPerformLLMQuery\"\n",
    "      \"GenaiMaxDocumentChunks\"\n",
    "      \"GenaiContextDocuments\"\n",
    "      ])\n",
    "    {\n",
    "      alias\n",
    "      value\n",
    "    }\n",
    "  }\n",
    "}\n",
    "\"\"\"\n",
    "\n",
    "var = \"\"\"{\n",
    "  \"repo\":\"FNOS1\",\n",
    "  \"props\": [\n",
    "    {\"GenaiLLMPrompt\":\"What is FileNet\"},    \n",
    "    {\"GenaiContextDocuments\":[\"{95919900-0000-C15D-8DD2-8DFF25B34A78}\"]},\n",
    "    {\"GenaiMaxSummaryWords\": 100}\n",
    "  ],\n",
    "  \"className\": \"GenaiAdhocSummary\"\n",
    "}\"\"\"\n",
    "response = gql_request.execute_request(query=query, variables=var)"
   ]
  },
  {
   "cell_type": "markdown",
   "id": "1162f32b",
   "metadata": {},
   "source": [
    "#### GraphQL query to query GenAIAdhocSummary:\n"
   ]
  },
  {
   "cell_type": "code",
   "execution_count": null,
   "id": "cf025fa2",
   "metadata": {},
   "outputs": [],
   "source": [
    "gql_request = GraphqlRequest(gql_connection=source_connection)\n",
    "query = \"\"\"query adhocQuery($repo:String!, $id:String!,\n",
    "  $className:String!){\n",
    "  cmAbstractPersistable(repositoryIdentifier: $repo,\n",
    "  identifier:$id,\n",
    "  classIdentifier:$className)\n",
    "  {\n",
    "    id\n",
    "    name\n",
    "    creator\n",
    "    properties(includes:[\"GenaiLLMPrompt\",\n",
    "      \"GenaiLLMModelName\", \n",
    "      \"GenaiLLMResponse\",\n",
    "      \"GenaiVectorChunks\"\n",
    "      \"GenaiPerformLLMQuery\"\n",
    "      \"GenaiMaxDocumentChunks\"\n",
    "      \"GenaiContextDocument\"\n",
    "      ])\n",
    "    {\n",
    "      alias\n",
    "      value\n",
    "    }\n",
    "  }\n",
    "}\n",
    "\"\"\"\n",
    "\n",
    "var = \"\"\"{\n",
    "  \"repo\":\"FNOS1\",\n",
    "  \"id\": \"{503FA78F-0000-C32C-9BE5-FD37E37381B3}\",\n",
    "  \"className\": \"GenaiAdhocSummary\"\n",
    "}\"\"\"\n",
    "response = gql_request.execute_request(query=query, variables=var)"
   ]
  }
 ],
 "metadata": {
  "kernelspec": {
   "display_name": "Python 3",
   "language": "python",
   "name": "python3"
  },
  "language_info": {
   "codemirror_mode": {
    "name": "ipython",
    "version": 3
   },
   "file_extension": ".py",
   "mimetype": "text/x-python",
   "name": "python",
   "nbconvert_exporter": "python",
   "pygments_lexer": "ipython3",
   "version": "3.11.6"
  }
 },
 "nbformat": 4,
 "nbformat_minor": 5
}
